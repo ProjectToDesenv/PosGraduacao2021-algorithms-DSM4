{
  "nbformat": 4,
  "nbformat_minor": 0,
  "metadata": {
    "kernelspec": {
      "display_name": "Python 3",
      "language": "python",
      "name": "python3"
    },
    "language_info": {
      "codemirror_mode": {
        "name": "ipython",
        "version": 3
      },
      "file_extension": ".py",
      "mimetype": "text/x-python",
      "name": "python",
      "nbconvert_exporter": "python",
      "pygments_lexer": "ipython3",
      "version": "3.7.3"
    },
    "colab": {
      "name": "Trabalho_ML_Uso_Apriori_vf.ipynb",
      "provenance": [],
      "collapsed_sections": [],
      "include_colab_link": true
    }
  },
  "cells": [
    {
      "cell_type": "markdown",
      "metadata": {
        "id": "view-in-github",
        "colab_type": "text"
      },
      "source": [
        "<a href=\"https://colab.research.google.com/github/ProjectToDesenv/PosGraduacao2021-algorithms-DSM4/blob/master/Trabalho_ML_Uso_Apriori_vf.ipynb\" target=\"_parent\"><img src=\"https://colab.research.google.com/assets/colab-badge.svg\" alt=\"Open In Colab\"/></a>"
      ]
    },
    {
      "cell_type": "markdown",
      "metadata": {
        "id": "h7GOa8f9wo2A"
      },
      "source": [
        "Disciplina de Machine Learning\n",
        "\n",
        "Prof. Dr. Rafael Kunst\n",
        "\n",
        "Prática em regras de associação utilizando Apriori"
      ]
    },
    {
      "cell_type": "markdown",
      "metadata": {
        "id": "j77rKsoIwo2F"
      },
      "source": [
        "Importação das bibliotecas. Pode ser necessário instalar algumas.\n",
        "\n"
      ]
    },
    {
      "cell_type": "code",
      "metadata": {
        "colab": {
          "base_uri": "https://localhost:8080/",
          "height": 0
        },
        "id": "F9yuf6XwBFCR",
        "outputId": "58509577-a0cd-4a65-e80c-c206d6b1d5d3"
      },
      "source": [
        "!pip install apyori"
      ],
      "execution_count": 107,
      "outputs": [
        {
          "output_type": "stream",
          "name": "stdout",
          "text": [
            "Requirement already satisfied: apyori in /usr/local/lib/python3.7/dist-packages (1.1.2)\n"
          ]
        }
      ]
    },
    {
      "cell_type": "code",
      "metadata": {
        "id": "GmSW8WtRwo2G"
      },
      "source": [
        "import numpy as np\n",
        "import matplotlib.pyplot as plt\n",
        "import pandas as pd\n",
        "from apyori import apriori"
      ],
      "execution_count": 108,
      "outputs": []
    },
    {
      "cell_type": "markdown",
      "metadata": {
        "id": "9Rnv8GGFwo2H"
      },
      "source": [
        "Importação do Dataset, que neste caso contém compras realizadas em um supermercado, a exemplo do que foi dado em aula. O dataset está salvo no mesmo diretório do notebook e é um arquivo do tipo CSV obtido no site Kaggle (https://www.kaggle.com/irfanasrullah/groceries?select=groceries+-+groceries.csv)"
      ]
    },
    {
      "cell_type": "code",
      "metadata": {
        "id": "CXxb2aZYwo2H"
      },
      "source": [
        "store_data = pd.read_csv('groceries.csv',header=None)"
      ],
      "execution_count": 109,
      "outputs": []
    },
    {
      "cell_type": "markdown",
      "metadata": {
        "id": "Qn51QQIkwo2H"
      },
      "source": [
        "O método head() irá mostrar a estrutura do dataset já importado. Por padrão, são mostradas as 5 primeiras linhas, mas vamos mostrar as 10 primeiras linhas."
      ]
    },
    {
      "cell_type": "code",
      "metadata": {
        "id": "em02Pd9lwo2I",
        "colab": {
          "base_uri": "https://localhost:8080/",
          "height": 556
        },
        "outputId": "abfe1786-d0b6-4bc1-ffe9-9db7c099cfa0"
      },
      "source": [
        "store_data.head(10)"
      ],
      "execution_count": 116,
      "outputs": [
        {
          "output_type": "execute_result",
          "data": {
            "text/html": [
              "<div>\n",
              "<style scoped>\n",
              "    .dataframe tbody tr th:only-of-type {\n",
              "        vertical-align: middle;\n",
              "    }\n",
              "\n",
              "    .dataframe tbody tr th {\n",
              "        vertical-align: top;\n",
              "    }\n",
              "\n",
              "    .dataframe thead th {\n",
              "        text-align: right;\n",
              "    }\n",
              "</style>\n",
              "<table border=\"1\" class=\"dataframe\">\n",
              "  <thead>\n",
              "    <tr style=\"text-align: right;\">\n",
              "      <th></th>\n",
              "      <th>0</th>\n",
              "      <th>1</th>\n",
              "      <th>2</th>\n",
              "      <th>3</th>\n",
              "      <th>4</th>\n",
              "      <th>5</th>\n",
              "      <th>6</th>\n",
              "      <th>7</th>\n",
              "      <th>8</th>\n",
              "      <th>9</th>\n",
              "      <th>10</th>\n",
              "      <th>11</th>\n",
              "      <th>12</th>\n",
              "      <th>13</th>\n",
              "      <th>14</th>\n",
              "      <th>15</th>\n",
              "      <th>16</th>\n",
              "      <th>17</th>\n",
              "      <th>18</th>\n",
              "      <th>19</th>\n",
              "      <th>20</th>\n",
              "      <th>21</th>\n",
              "      <th>22</th>\n",
              "      <th>23</th>\n",
              "      <th>24</th>\n",
              "      <th>25</th>\n",
              "      <th>26</th>\n",
              "      <th>27</th>\n",
              "      <th>28</th>\n",
              "      <th>29</th>\n",
              "      <th>30</th>\n",
              "      <th>31</th>\n",
              "      <th>32</th>\n",
              "    </tr>\n",
              "  </thead>\n",
              "  <tbody>\n",
              "    <tr>\n",
              "      <th>0</th>\n",
              "      <td>Item(s)</td>\n",
              "      <td>Item 1</td>\n",
              "      <td>Item 2</td>\n",
              "      <td>Item 3</td>\n",
              "      <td>Item 4</td>\n",
              "      <td>Item 5</td>\n",
              "      <td>Item 6</td>\n",
              "      <td>Item 7</td>\n",
              "      <td>Item 8</td>\n",
              "      <td>Item 9</td>\n",
              "      <td>Item 10</td>\n",
              "      <td>Item 11</td>\n",
              "      <td>Item 12</td>\n",
              "      <td>Item 13</td>\n",
              "      <td>Item 14</td>\n",
              "      <td>Item 15</td>\n",
              "      <td>Item 16</td>\n",
              "      <td>Item 17</td>\n",
              "      <td>Item 18</td>\n",
              "      <td>Item 19</td>\n",
              "      <td>Item 20</td>\n",
              "      <td>Item 21</td>\n",
              "      <td>Item 22</td>\n",
              "      <td>Item 23</td>\n",
              "      <td>Item 24</td>\n",
              "      <td>Item 25</td>\n",
              "      <td>Item 26</td>\n",
              "      <td>Item 27</td>\n",
              "      <td>Item 28</td>\n",
              "      <td>Item 29</td>\n",
              "      <td>Item 30</td>\n",
              "      <td>Item 31</td>\n",
              "      <td>Item 32</td>\n",
              "    </tr>\n",
              "    <tr>\n",
              "      <th>1</th>\n",
              "      <td>4</td>\n",
              "      <td>citrus fruit</td>\n",
              "      <td>semi-finished bread</td>\n",
              "      <td>margarine</td>\n",
              "      <td>ready soups</td>\n",
              "      <td>NaN</td>\n",
              "      <td>NaN</td>\n",
              "      <td>NaN</td>\n",
              "      <td>NaN</td>\n",
              "      <td>NaN</td>\n",
              "      <td>NaN</td>\n",
              "      <td>NaN</td>\n",
              "      <td>NaN</td>\n",
              "      <td>NaN</td>\n",
              "      <td>NaN</td>\n",
              "      <td>NaN</td>\n",
              "      <td>NaN</td>\n",
              "      <td>NaN</td>\n",
              "      <td>NaN</td>\n",
              "      <td>NaN</td>\n",
              "      <td>NaN</td>\n",
              "      <td>NaN</td>\n",
              "      <td>NaN</td>\n",
              "      <td>NaN</td>\n",
              "      <td>NaN</td>\n",
              "      <td>NaN</td>\n",
              "      <td>NaN</td>\n",
              "      <td>NaN</td>\n",
              "      <td>NaN</td>\n",
              "      <td>NaN</td>\n",
              "      <td>NaN</td>\n",
              "      <td>NaN</td>\n",
              "      <td>NaN</td>\n",
              "    </tr>\n",
              "    <tr>\n",
              "      <th>2</th>\n",
              "      <td>3</td>\n",
              "      <td>tropical fruit</td>\n",
              "      <td>yogurt</td>\n",
              "      <td>coffee</td>\n",
              "      <td>NaN</td>\n",
              "      <td>NaN</td>\n",
              "      <td>NaN</td>\n",
              "      <td>NaN</td>\n",
              "      <td>NaN</td>\n",
              "      <td>NaN</td>\n",
              "      <td>NaN</td>\n",
              "      <td>NaN</td>\n",
              "      <td>NaN</td>\n",
              "      <td>NaN</td>\n",
              "      <td>NaN</td>\n",
              "      <td>NaN</td>\n",
              "      <td>NaN</td>\n",
              "      <td>NaN</td>\n",
              "      <td>NaN</td>\n",
              "      <td>NaN</td>\n",
              "      <td>NaN</td>\n",
              "      <td>NaN</td>\n",
              "      <td>NaN</td>\n",
              "      <td>NaN</td>\n",
              "      <td>NaN</td>\n",
              "      <td>NaN</td>\n",
              "      <td>NaN</td>\n",
              "      <td>NaN</td>\n",
              "      <td>NaN</td>\n",
              "      <td>NaN</td>\n",
              "      <td>NaN</td>\n",
              "      <td>NaN</td>\n",
              "      <td>NaN</td>\n",
              "    </tr>\n",
              "    <tr>\n",
              "      <th>3</th>\n",
              "      <td>1</td>\n",
              "      <td>whole milk</td>\n",
              "      <td>NaN</td>\n",
              "      <td>NaN</td>\n",
              "      <td>NaN</td>\n",
              "      <td>NaN</td>\n",
              "      <td>NaN</td>\n",
              "      <td>NaN</td>\n",
              "      <td>NaN</td>\n",
              "      <td>NaN</td>\n",
              "      <td>NaN</td>\n",
              "      <td>NaN</td>\n",
              "      <td>NaN</td>\n",
              "      <td>NaN</td>\n",
              "      <td>NaN</td>\n",
              "      <td>NaN</td>\n",
              "      <td>NaN</td>\n",
              "      <td>NaN</td>\n",
              "      <td>NaN</td>\n",
              "      <td>NaN</td>\n",
              "      <td>NaN</td>\n",
              "      <td>NaN</td>\n",
              "      <td>NaN</td>\n",
              "      <td>NaN</td>\n",
              "      <td>NaN</td>\n",
              "      <td>NaN</td>\n",
              "      <td>NaN</td>\n",
              "      <td>NaN</td>\n",
              "      <td>NaN</td>\n",
              "      <td>NaN</td>\n",
              "      <td>NaN</td>\n",
              "      <td>NaN</td>\n",
              "      <td>NaN</td>\n",
              "    </tr>\n",
              "    <tr>\n",
              "      <th>4</th>\n",
              "      <td>4</td>\n",
              "      <td>pip fruit</td>\n",
              "      <td>yogurt</td>\n",
              "      <td>cream cheese</td>\n",
              "      <td>meat spreads</td>\n",
              "      <td>NaN</td>\n",
              "      <td>NaN</td>\n",
              "      <td>NaN</td>\n",
              "      <td>NaN</td>\n",
              "      <td>NaN</td>\n",
              "      <td>NaN</td>\n",
              "      <td>NaN</td>\n",
              "      <td>NaN</td>\n",
              "      <td>NaN</td>\n",
              "      <td>NaN</td>\n",
              "      <td>NaN</td>\n",
              "      <td>NaN</td>\n",
              "      <td>NaN</td>\n",
              "      <td>NaN</td>\n",
              "      <td>NaN</td>\n",
              "      <td>NaN</td>\n",
              "      <td>NaN</td>\n",
              "      <td>NaN</td>\n",
              "      <td>NaN</td>\n",
              "      <td>NaN</td>\n",
              "      <td>NaN</td>\n",
              "      <td>NaN</td>\n",
              "      <td>NaN</td>\n",
              "      <td>NaN</td>\n",
              "      <td>NaN</td>\n",
              "      <td>NaN</td>\n",
              "      <td>NaN</td>\n",
              "      <td>NaN</td>\n",
              "    </tr>\n",
              "    <tr>\n",
              "      <th>5</th>\n",
              "      <td>4</td>\n",
              "      <td>other vegetables</td>\n",
              "      <td>whole milk</td>\n",
              "      <td>condensed milk</td>\n",
              "      <td>long life bakery product</td>\n",
              "      <td>NaN</td>\n",
              "      <td>NaN</td>\n",
              "      <td>NaN</td>\n",
              "      <td>NaN</td>\n",
              "      <td>NaN</td>\n",
              "      <td>NaN</td>\n",
              "      <td>NaN</td>\n",
              "      <td>NaN</td>\n",
              "      <td>NaN</td>\n",
              "      <td>NaN</td>\n",
              "      <td>NaN</td>\n",
              "      <td>NaN</td>\n",
              "      <td>NaN</td>\n",
              "      <td>NaN</td>\n",
              "      <td>NaN</td>\n",
              "      <td>NaN</td>\n",
              "      <td>NaN</td>\n",
              "      <td>NaN</td>\n",
              "      <td>NaN</td>\n",
              "      <td>NaN</td>\n",
              "      <td>NaN</td>\n",
              "      <td>NaN</td>\n",
              "      <td>NaN</td>\n",
              "      <td>NaN</td>\n",
              "      <td>NaN</td>\n",
              "      <td>NaN</td>\n",
              "      <td>NaN</td>\n",
              "      <td>NaN</td>\n",
              "    </tr>\n",
              "    <tr>\n",
              "      <th>6</th>\n",
              "      <td>5</td>\n",
              "      <td>whole milk</td>\n",
              "      <td>butter</td>\n",
              "      <td>yogurt</td>\n",
              "      <td>rice</td>\n",
              "      <td>abrasive cleaner</td>\n",
              "      <td>NaN</td>\n",
              "      <td>NaN</td>\n",
              "      <td>NaN</td>\n",
              "      <td>NaN</td>\n",
              "      <td>NaN</td>\n",
              "      <td>NaN</td>\n",
              "      <td>NaN</td>\n",
              "      <td>NaN</td>\n",
              "      <td>NaN</td>\n",
              "      <td>NaN</td>\n",
              "      <td>NaN</td>\n",
              "      <td>NaN</td>\n",
              "      <td>NaN</td>\n",
              "      <td>NaN</td>\n",
              "      <td>NaN</td>\n",
              "      <td>NaN</td>\n",
              "      <td>NaN</td>\n",
              "      <td>NaN</td>\n",
              "      <td>NaN</td>\n",
              "      <td>NaN</td>\n",
              "      <td>NaN</td>\n",
              "      <td>NaN</td>\n",
              "      <td>NaN</td>\n",
              "      <td>NaN</td>\n",
              "      <td>NaN</td>\n",
              "      <td>NaN</td>\n",
              "      <td>NaN</td>\n",
              "    </tr>\n",
              "    <tr>\n",
              "      <th>7</th>\n",
              "      <td>1</td>\n",
              "      <td>rolls/buns</td>\n",
              "      <td>NaN</td>\n",
              "      <td>NaN</td>\n",
              "      <td>NaN</td>\n",
              "      <td>NaN</td>\n",
              "      <td>NaN</td>\n",
              "      <td>NaN</td>\n",
              "      <td>NaN</td>\n",
              "      <td>NaN</td>\n",
              "      <td>NaN</td>\n",
              "      <td>NaN</td>\n",
              "      <td>NaN</td>\n",
              "      <td>NaN</td>\n",
              "      <td>NaN</td>\n",
              "      <td>NaN</td>\n",
              "      <td>NaN</td>\n",
              "      <td>NaN</td>\n",
              "      <td>NaN</td>\n",
              "      <td>NaN</td>\n",
              "      <td>NaN</td>\n",
              "      <td>NaN</td>\n",
              "      <td>NaN</td>\n",
              "      <td>NaN</td>\n",
              "      <td>NaN</td>\n",
              "      <td>NaN</td>\n",
              "      <td>NaN</td>\n",
              "      <td>NaN</td>\n",
              "      <td>NaN</td>\n",
              "      <td>NaN</td>\n",
              "      <td>NaN</td>\n",
              "      <td>NaN</td>\n",
              "      <td>NaN</td>\n",
              "    </tr>\n",
              "    <tr>\n",
              "      <th>8</th>\n",
              "      <td>5</td>\n",
              "      <td>other vegetables</td>\n",
              "      <td>UHT-milk</td>\n",
              "      <td>rolls/buns</td>\n",
              "      <td>bottled beer</td>\n",
              "      <td>liquor (appetizer)</td>\n",
              "      <td>NaN</td>\n",
              "      <td>NaN</td>\n",
              "      <td>NaN</td>\n",
              "      <td>NaN</td>\n",
              "      <td>NaN</td>\n",
              "      <td>NaN</td>\n",
              "      <td>NaN</td>\n",
              "      <td>NaN</td>\n",
              "      <td>NaN</td>\n",
              "      <td>NaN</td>\n",
              "      <td>NaN</td>\n",
              "      <td>NaN</td>\n",
              "      <td>NaN</td>\n",
              "      <td>NaN</td>\n",
              "      <td>NaN</td>\n",
              "      <td>NaN</td>\n",
              "      <td>NaN</td>\n",
              "      <td>NaN</td>\n",
              "      <td>NaN</td>\n",
              "      <td>NaN</td>\n",
              "      <td>NaN</td>\n",
              "      <td>NaN</td>\n",
              "      <td>NaN</td>\n",
              "      <td>NaN</td>\n",
              "      <td>NaN</td>\n",
              "      <td>NaN</td>\n",
              "      <td>NaN</td>\n",
              "    </tr>\n",
              "    <tr>\n",
              "      <th>9</th>\n",
              "      <td>1</td>\n",
              "      <td>potted plants</td>\n",
              "      <td>NaN</td>\n",
              "      <td>NaN</td>\n",
              "      <td>NaN</td>\n",
              "      <td>NaN</td>\n",
              "      <td>NaN</td>\n",
              "      <td>NaN</td>\n",
              "      <td>NaN</td>\n",
              "      <td>NaN</td>\n",
              "      <td>NaN</td>\n",
              "      <td>NaN</td>\n",
              "      <td>NaN</td>\n",
              "      <td>NaN</td>\n",
              "      <td>NaN</td>\n",
              "      <td>NaN</td>\n",
              "      <td>NaN</td>\n",
              "      <td>NaN</td>\n",
              "      <td>NaN</td>\n",
              "      <td>NaN</td>\n",
              "      <td>NaN</td>\n",
              "      <td>NaN</td>\n",
              "      <td>NaN</td>\n",
              "      <td>NaN</td>\n",
              "      <td>NaN</td>\n",
              "      <td>NaN</td>\n",
              "      <td>NaN</td>\n",
              "      <td>NaN</td>\n",
              "      <td>NaN</td>\n",
              "      <td>NaN</td>\n",
              "      <td>NaN</td>\n",
              "      <td>NaN</td>\n",
              "      <td>NaN</td>\n",
              "    </tr>\n",
              "  </tbody>\n",
              "</table>\n",
              "</div>"
            ],
            "text/plain": [
              "        0                 1                    2   ...       30       31       32\n",
              "0  Item(s)            Item 1               Item 2  ...  Item 30  Item 31  Item 32\n",
              "1        4      citrus fruit  semi-finished bread  ...      NaN      NaN      NaN\n",
              "2        3    tropical fruit               yogurt  ...      NaN      NaN      NaN\n",
              "3        1        whole milk                  NaN  ...      NaN      NaN      NaN\n",
              "4        4         pip fruit               yogurt  ...      NaN      NaN      NaN\n",
              "5        4  other vegetables           whole milk  ...      NaN      NaN      NaN\n",
              "6        5        whole milk               butter  ...      NaN      NaN      NaN\n",
              "7        1        rolls/buns                  NaN  ...      NaN      NaN      NaN\n",
              "8        5  other vegetables             UHT-milk  ...      NaN      NaN      NaN\n",
              "9        1     potted plants                  NaN  ...      NaN      NaN      NaN\n",
              "\n",
              "[10 rows x 33 columns]"
            ]
          },
          "metadata": {},
          "execution_count": 116
        }
      ]
    },
    {
      "cell_type": "markdown",
      "metadata": {
        "id": "pARySfjLwo2J"
      },
      "source": [
        "Fase de pré-processamento:\n",
        "\n",
        "Os dados importados estão no formato de quadros da biblioteca Pandas. Conforme explanado em aula, para que o algoritmo Apriori consiga processar essas informações é preciso mudar o formato para listas.Foi mantida a parametrização do laço de repetição for para considerar o número de linhas e de colunas do dataset."
      ]
    },
    {
      "cell_type": "code",
      "metadata": {
        "id": "iHC6xMMJwo2J"
      },
      "source": [
        "records = []\n",
        "for i in range(1, 9835):\n",
        "    records.append([str(store_data.values[i,j]) for j in range(1, 33)])"
      ],
      "execution_count": 111,
      "outputs": []
    },
    {
      "cell_type": "markdown",
      "metadata": {
        "id": "QOR6BbF_wo2K"
      },
      "source": [
        "Agora é o momento de aplicar o algoritmo Apriori, utilizando o método da biblioteca apyori. A atenção deve estar nos parâmetros mínimos de confidence, support e lift. O professor explanou que esses valores devem ser informados pelo cientista de dados, com base no conhecimento do negócio. Assim, foram realizados alguns testes, resultado entre 6 e 45 associações de resultado, sendo que optei pela parametrização a seguir."
      ]
    },
    {
      "cell_type": "code",
      "metadata": {
        "id": "726NF5QQwo2K"
      },
      "source": [
        "association_rules = apriori(records, min_support=0.0085, min_confidence=0.25, min_lift=3, min_length=2)\n",
        "association_results = list(association_rules)"
      ],
      "execution_count": 112,
      "outputs": []
    },
    {
      "cell_type": "markdown",
      "metadata": {
        "id": "irSY6IVswo2K"
      },
      "source": [
        "O resultado abaixo refere-se à quantidade de regras encontradas, considerando os parâmetros utilizados na execução do Apriori"
      ]
    },
    {
      "cell_type": "code",
      "metadata": {
        "id": "aUtw7DoOwo2L",
        "colab": {
          "base_uri": "https://localhost:8080/",
          "height": 0
        },
        "outputId": "1890411c-a4c8-4de3-d3f5-528fb7e5b48d"
      },
      "source": [
        "print(len(association_results))"
      ],
      "execution_count": 113,
      "outputs": [
        {
          "output_type": "stream",
          "name": "stdout",
          "text": [
            "12\n"
          ]
        }
      ]
    },
    {
      "cell_type": "code",
      "metadata": {
        "id": "B8B3ncPZwo2L",
        "colab": {
          "base_uri": "https://localhost:8080/",
          "height": 0
        },
        "outputId": "f66852ce-7532-4b3c-aeef-8c71e13ab37c"
      },
      "source": [
        "print(association_results[0])"
      ],
      "execution_count": 114,
      "outputs": [
        {
          "output_type": "stream",
          "name": "stdout",
          "text": [
            "RelationRecord(items=frozenset({'beef', 'root vegetables'}), support=0.017388651616839536, ordered_statistics=[OrderedStatistic(items_base=frozenset({'beef'}), items_add=frozenset({'root vegetables'}), confidence=0.3313953488372093, lift=3.0400577056577576)])\n"
          ]
        }
      ]
    },
    {
      "cell_type": "markdown",
      "metadata": {
        "id": "BfM_f8Dlwo2L"
      },
      "source": [
        "Mantendo as mesmas instruções aprendidas em aula, foi realizado o processamento para melhor visualização de todas as regras."
      ]
    },
    {
      "cell_type": "code",
      "metadata": {
        "id": "0fra6LvHwo2L",
        "colab": {
          "base_uri": "https://localhost:8080/",
          "height": 0
        },
        "outputId": "3352d5a5-7af9-4b1e-d9a4-64d3a75075f1"
      },
      "source": [
        "for item in association_results:\n",
        "\n",
        "    pair = item[0] \n",
        "    items = [x for x in pair]\n",
        "    print(\"Regra encontrada: \" + items[0] + \" -> \" + items[1])\n",
        "    print(\"Support: \" + str(item[1]))\n",
        "    print(\"Confidence: \" + str(item[2][0][2]))\n",
        "    print(\"Lift: \" + str(item[2][0][3]))\n",
        "    print(\"=====================================\")    "
      ],
      "execution_count": 119,
      "outputs": [
        {
          "output_type": "stream",
          "name": "stdout",
          "text": [
            "Regra encontrada: beef -> root vegetables\n",
            "Support: 0.017388651616839536\n",
            "Confidence: 0.3313953488372093\n",
            "Lift: 3.0400577056577576\n",
            "=====================================\n",
            "Regra encontrada: whipped/sour cream -> berries\n",
            "Support: 0.009050233882448647\n",
            "Confidence: 0.27217125382262997\n",
            "Lift: 3.796499446938643\n",
            "=====================================\n",
            "Regra encontrada: nan -> beef\n",
            "Support: 0.017286963595688428\n",
            "Confidence: 0.3294573643410853\n",
            "Lift: 3.025101513473607\n",
            "=====================================\n",
            "Regra encontrada: whipped/sour cream -> berries\n",
            "Support: 0.009050233882448647\n",
            "Confidence: 0.27217125382262997\n",
            "Lift: 3.801892201834862\n",
            "=====================================\n",
            "Regra encontrada: citrus fruit -> other vegetables\n",
            "Support: 0.010372178157413058\n",
            "Confidence: 0.3591549295774648\n",
            "Lift: 3.2947104267395417\n",
            "=====================================\n",
            "Regra encontrada: citrus fruit -> other vegetables\n",
            "Support: 0.009050233882448647\n",
            "Confidence: 0.25284090909090906\n",
            "Lift: 3.054591523341523\n",
            "=====================================\n",
            "Regra encontrada: pip fruit -> other vegetables\n",
            "Support: 0.009456985967053081\n",
            "Confidence: 0.36186770428015563\n",
            "Lift: 3.4516071812716302\n",
            "=====================================\n",
            "Regra encontrada: tropical fruit -> other vegetables\n",
            "Support: 0.012304250559284116\n",
            "Confidence: 0.34375\n",
            "Lift: 3.1533931902985075\n",
            "=====================================\n",
            "Regra encontrada: nan -> citrus fruit\n",
            "Support: 0.010270490136261948\n",
            "Confidence: 0.3556338028169014\n",
            "Lift: 3.265455477965834\n",
            "=====================================\n",
            "Regra encontrada: nan -> citrus fruit\n",
            "Support: 0.008948545861297539\n",
            "Confidence: 0.25\n",
            "Lift: 3.0239852398523985\n",
            "=====================================\n",
            "Regra encontrada: pip fruit -> nan\n",
            "Support: 0.009456985967053081\n",
            "Confidence: 0.36186770428015563\n",
            "Lift: 3.4549582562049035\n",
            "=====================================\n",
            "Regra encontrada: tropical fruit -> nan\n",
            "Support: 0.012202562538133009\n",
            "Confidence: 0.34090909090909094\n",
            "Lift: 3.1302521008403366\n",
            "=====================================\n"
          ]
        }
      ]
    },
    {
      "cell_type": "code",
      "metadata": {
        "id": "gXI04E_Lwo2M"
      },
      "source": [
        ""
      ],
      "execution_count": null,
      "outputs": []
    }
  ]
}