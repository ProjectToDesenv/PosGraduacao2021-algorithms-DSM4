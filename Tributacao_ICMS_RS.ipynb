{
  "nbformat": 4,
  "nbformat_minor": 0,
  "metadata": {
    "colab": {
      "name": "Tributacao_ICMS_RS.ipynb",
      "provenance": [],
      "collapsed_sections": [],
      "include_colab_link": true
    },
    "kernelspec": {
      "name": "python391jvsc74a57bd063fd5069d213b44bf678585dea6b12cceca9941eaf7f819626cde1f2670de90d",
      "display_name": "Python 3.9.1 64-bit"
    },
    "language_info": {
      "name": "python",
      "version": "3.9.1"
    },
    "metadata": {
      "interpreter": {
        "hash": "63fd5069d213b44bf678585dea6b12cceca9941eaf7f819626cde1f2670de90d"
      }
    }
  },
  "cells": [
    {
      "cell_type": "markdown",
      "metadata": {
        "id": "view-in-github",
        "colab_type": "text"
      },
      "source": [
        "<a href=\"https://colab.research.google.com/github/ProjectToDesenv/PosGraduacao2021-algorithms-DSM4/blob/master/Tributacao_ICMS_RS.ipynb\" target=\"_parent\"><img src=\"https://colab.research.google.com/assets/colab-badge.svg\" alt=\"Open In Colab\"/></a>"
      ]
    },
    {
      "cell_type": "markdown",
      "metadata": {
        "id": "yEwx7rztqO0X"
      },
      "source": [
        "Introdução, inclusão da Primeira Fase do CRISP-DM"
      ]
    },
    {
      "cell_type": "code",
      "metadata": {
        "id": "ZpKm8RmqorUl"
      },
      "source": [
        "import pandas as pd\n",
        "import numpy as np\n",
        "import seaborn as sns\n",
        "import matplotlib.pyplot as plt\n",
        "from sklearn.linear_model import LinearRegression\n",
        "from sklearn.datasets import make_regression\n",
        "from sklearn.model_selection import train_test_split\n",
        "from sklearn.metrics import r2_score\n",
        "import sklearn.model_selection as ms\n",
        "lr = LinearRegression()\n",
        "\n",
        "#%matplotlib inline\n",
        "\n",
        "#Leitura do arquivo no formato xls\n",
        "data = pd.DataFrame(pd.read_excel(\"Repasses 20142020.xls\"))\n",
        "\n",
        "#conversão do arquivo para cvs\n",
        "data.to_csv (\"Repasses 20142020.csv\", \n",
        "                  index = None,\n",
        "                  header=True)\n"
      ],
      "execution_count": 7,
      "outputs": []
    },
    {
      "cell_type": "code",
      "metadata": {
        "id": "ydalvLbA4mAp",
        "colab": {
          "base_uri": "https://localhost:8080/",
          "height": 195
        },
        "outputId": "e6ab14f1-59da-4836-a9d8-6c035200d355"
      },
      "source": [
        "#Cria lista com nomes de colunas do arquivo Repasses 20142020.csv\n",
        "cols = ['municipios','2014','2015','2016', '2017', '2018', '2019', '2020']\n",
        "\n",
        "#Nomeia as colunas do arquivo Repasses 20142020.csv com os itens da lista\n",
        "data = pd.read_csv(r\"Repasses 20142020.csv\", names=cols)\n",
        "data.head()"
      ],
      "execution_count": 8,
      "outputs": [
        {
          "output_type": "execute_result",
          "data": {
            "text/html": [
              "<div>\n",
              "<style scoped>\n",
              "    .dataframe tbody tr th:only-of-type {\n",
              "        vertical-align: middle;\n",
              "    }\n",
              "\n",
              "    .dataframe tbody tr th {\n",
              "        vertical-align: top;\n",
              "    }\n",
              "\n",
              "    .dataframe thead th {\n",
              "        text-align: right;\n",
              "    }\n",
              "</style>\n",
              "<table border=\"1\" class=\"dataframe\">\n",
              "  <thead>\n",
              "    <tr style=\"text-align: right;\">\n",
              "      <th></th>\n",
              "      <th>municipios</th>\n",
              "      <th>2014</th>\n",
              "      <th>2015</th>\n",
              "      <th>2016</th>\n",
              "      <th>2017</th>\n",
              "      <th>2018</th>\n",
              "      <th>2019</th>\n",
              "      <th>2020</th>\n",
              "    </tr>\n",
              "  </thead>\n",
              "  <tbody>\n",
              "    <tr>\n",
              "      <th>0</th>\n",
              "      <td>ACEGUA</td>\n",
              "      <td>5502348.54</td>\n",
              "      <td>6075183.99</td>\n",
              "      <td>6622279.67</td>\n",
              "      <td>7176277.38</td>\n",
              "      <td>8166737.65</td>\n",
              "      <td>8744664.36</td>\n",
              "      <td>8889621.64</td>\n",
              "    </tr>\n",
              "    <tr>\n",
              "      <th>1</th>\n",
              "      <td>AGUA SANTA</td>\n",
              "      <td>3799378.01</td>\n",
              "      <td>3983286.46</td>\n",
              "      <td>4416318.24</td>\n",
              "      <td>4918023.68</td>\n",
              "      <td>5651324.66</td>\n",
              "      <td>5896371.31</td>\n",
              "      <td>6353422.28</td>\n",
              "    </tr>\n",
              "    <tr>\n",
              "      <th>2</th>\n",
              "      <td>AGUDO</td>\n",
              "      <td>6919789.33</td>\n",
              "      <td>7691367.16</td>\n",
              "      <td>8660675.82</td>\n",
              "      <td>8704848.42</td>\n",
              "      <td>9635339.65</td>\n",
              "      <td>10235133.02</td>\n",
              "      <td>10014811.71</td>\n",
              "    </tr>\n",
              "    <tr>\n",
              "      <th>3</th>\n",
              "      <td>AJURICABA</td>\n",
              "      <td>4282806.44</td>\n",
              "      <td>4254569.30</td>\n",
              "      <td>4674617.27</td>\n",
              "      <td>4985308.44</td>\n",
              "      <td>5914442.24</td>\n",
              "      <td>6420232.67</td>\n",
              "      <td>6669565.67</td>\n",
              "    </tr>\n",
              "    <tr>\n",
              "      <th>4</th>\n",
              "      <td>ALECRIM</td>\n",
              "      <td>2753456.68</td>\n",
              "      <td>2928085.58</td>\n",
              "      <td>3219747.60</td>\n",
              "      <td>3394479.72</td>\n",
              "      <td>3819069.32</td>\n",
              "      <td>3917244.34</td>\n",
              "      <td>3967990.44</td>\n",
              "    </tr>\n",
              "  </tbody>\n",
              "</table>\n",
              "</div>"
            ],
            "text/plain": [
              "   municipios        2014        2015  ...        2018         2019         2020\n",
              "0      ACEGUA  5502348.54  6075183.99  ...  8166737.65   8744664.36   8889621.64\n",
              "1  AGUA SANTA  3799378.01  3983286.46  ...  5651324.66   5896371.31   6353422.28\n",
              "2       AGUDO  6919789.33  7691367.16  ...  9635339.65  10235133.02  10014811.71\n",
              "3   AJURICABA  4282806.44  4254569.30  ...  5914442.24   6420232.67   6669565.67\n",
              "4     ALECRIM  2753456.68  2928085.58  ...  3819069.32   3917244.34   3967990.44\n",
              "\n",
              "[5 rows x 8 columns]"
            ]
          },
          "metadata": {
            "tags": []
          },
          "execution_count": 8
        }
      ]
    },
    {
      "cell_type": "code",
      "metadata": {
        "id": "WfFUQXW1CGIN"
      },
      "source": [
        "#Copia o dataframe da coluna 2014 a 2019 para a variável \"a\"\n",
        "a = data.iloc[:,1:-1]"
      ],
      "execution_count": 9,
      "outputs": []
    },
    {
      "cell_type": "code",
      "metadata": {
        "colab": {
          "base_uri": "https://localhost:8080/",
          "height": 195
        },
        "id": "qofAJysMCGIO",
        "outputId": "a5f8d6e6-4e46-4065-98aa-d4def856b885"
      },
      "source": [
        "a.head()"
      ],
      "execution_count": 10,
      "outputs": [
        {
          "output_type": "execute_result",
          "data": {
            "text/html": [
              "<div>\n",
              "<style scoped>\n",
              "    .dataframe tbody tr th:only-of-type {\n",
              "        vertical-align: middle;\n",
              "    }\n",
              "\n",
              "    .dataframe tbody tr th {\n",
              "        vertical-align: top;\n",
              "    }\n",
              "\n",
              "    .dataframe thead th {\n",
              "        text-align: right;\n",
              "    }\n",
              "</style>\n",
              "<table border=\"1\" class=\"dataframe\">\n",
              "  <thead>\n",
              "    <tr style=\"text-align: right;\">\n",
              "      <th></th>\n",
              "      <th>2014</th>\n",
              "      <th>2015</th>\n",
              "      <th>2016</th>\n",
              "      <th>2017</th>\n",
              "      <th>2018</th>\n",
              "      <th>2019</th>\n",
              "    </tr>\n",
              "  </thead>\n",
              "  <tbody>\n",
              "    <tr>\n",
              "      <th>0</th>\n",
              "      <td>5502348.54</td>\n",
              "      <td>6075183.99</td>\n",
              "      <td>6622279.67</td>\n",
              "      <td>7176277.38</td>\n",
              "      <td>8166737.65</td>\n",
              "      <td>8744664.36</td>\n",
              "    </tr>\n",
              "    <tr>\n",
              "      <th>1</th>\n",
              "      <td>3799378.01</td>\n",
              "      <td>3983286.46</td>\n",
              "      <td>4416318.24</td>\n",
              "      <td>4918023.68</td>\n",
              "      <td>5651324.66</td>\n",
              "      <td>5896371.31</td>\n",
              "    </tr>\n",
              "    <tr>\n",
              "      <th>2</th>\n",
              "      <td>6919789.33</td>\n",
              "      <td>7691367.16</td>\n",
              "      <td>8660675.82</td>\n",
              "      <td>8704848.42</td>\n",
              "      <td>9635339.65</td>\n",
              "      <td>10235133.02</td>\n",
              "    </tr>\n",
              "    <tr>\n",
              "      <th>3</th>\n",
              "      <td>4282806.44</td>\n",
              "      <td>4254569.30</td>\n",
              "      <td>4674617.27</td>\n",
              "      <td>4985308.44</td>\n",
              "      <td>5914442.24</td>\n",
              "      <td>6420232.67</td>\n",
              "    </tr>\n",
              "    <tr>\n",
              "      <th>4</th>\n",
              "      <td>2753456.68</td>\n",
              "      <td>2928085.58</td>\n",
              "      <td>3219747.60</td>\n",
              "      <td>3394479.72</td>\n",
              "      <td>3819069.32</td>\n",
              "      <td>3917244.34</td>\n",
              "    </tr>\n",
              "  </tbody>\n",
              "</table>\n",
              "</div>"
            ],
            "text/plain": [
              "         2014        2015        2016        2017        2018         2019\n",
              "0  5502348.54  6075183.99  6622279.67  7176277.38  8166737.65   8744664.36\n",
              "1  3799378.01  3983286.46  4416318.24  4918023.68  5651324.66   5896371.31\n",
              "2  6919789.33  7691367.16  8660675.82  8704848.42  9635339.65  10235133.02\n",
              "3  4282806.44  4254569.30  4674617.27  4985308.44  5914442.24   6420232.67\n",
              "4  2753456.68  2928085.58  3219747.60  3394479.72  3819069.32   3917244.34"
            ]
          },
          "metadata": {
            "tags": []
          },
          "execution_count": 10
        }
      ]
    },
    {
      "cell_type": "code",
      "metadata": {
        "id": "4srR3WsaCGIO"
      },
      "source": [
        "#Copia o dataframe da coluna 2020 para a variável \"b\"\n",
        "b = data.iloc[:,-1]\n"
      ],
      "execution_count": 11,
      "outputs": []
    },
    {
      "cell_type": "code",
      "metadata": {
        "colab": {
          "base_uri": "https://localhost:8080/"
        },
        "id": "NqAZsA9sCGIP",
        "outputId": "fc2d2a45-bcb3-4c71-8273-32d1deab5184"
      },
      "source": [
        "b.head()"
      ],
      "execution_count": 12,
      "outputs": [
        {
          "output_type": "execute_result",
          "data": {
            "text/plain": [
              "0     8889621.64\n",
              "1     6353422.28\n",
              "2    10014811.71\n",
              "3     6669565.67\n",
              "4     3967990.44\n",
              "Name: 2020, dtype: float64"
            ]
          },
          "metadata": {
            "tags": []
          },
          "execution_count": 12
        }
      ]
    },
    {
      "cell_type": "code",
      "metadata": {
        "id": "smPrJLGMEaZD"
      },
      "source": [
        "# Divide o dataframe em 2/3 para treino e 1/3 para teste\n",
        "a_train, a_test, b_train, b_test = ms.train_test_split(a, b, test_size = 1/3, random_state = 0)"
      ],
      "execution_count": 13,
      "outputs": []
    },
    {
      "cell_type": "code",
      "metadata": {
        "id": "e2zwfHDNEeQi"
      },
      "source": [
        "# Treina o algoritmo com 2/3 dos dados de 2014 a 2019 sobre repasses de recursos aos municípios\n",
        "treino1 = lr.fit(a_train, b_train)"
      ],
      "execution_count": 14,
      "outputs": []
    },
    {
      "cell_type": "code",
      "metadata": {
        "id": "bbs-3SacEjZJ"
      },
      "source": [
        "# O algoritmo, já treinado, tenta predizer 1/3 dos dados de 2020 com base em 1/3 dos valores de 2014 a 2019\n",
        "predicao1 = lr.predict(a_test)"
      ],
      "execution_count": 15,
      "outputs": []
    },
    {
      "cell_type": "code",
      "metadata": {
        "id": "UujQ9zb-E6Cm"
      },
      "source": [
        "# Os dados previstos na linha anterior são comparados com os dados de teste de 2020 para apuração da acurácia do algoritmo \n",
        "acuracia1 = r2_score(b_test, predicao1)"
      ],
      "execution_count": 16,
      "outputs": []
    },
    {
      "cell_type": "code",
      "metadata": {
        "colab": {
          "base_uri": "https://localhost:8080/"
        },
        "id": "X--b5JE_FBJ-",
        "outputId": "4cdbdbbe-3b6f-4653-c240-180af964aa03"
      },
      "source": [
        "# Acurácia apurada de quase 100%\n",
        "print(acuracia1)"
      ],
      "execution_count": 17,
      "outputs": [
        {
          "output_type": "stream",
          "text": [
            "0.9961241262633479\n"
          ],
          "name": "stdout"
        }
      ]
    },
    {
      "cell_type": "code",
      "metadata": {
        "colab": {
          "base_uri": "https://localhost:8080/",
          "height": 289
        },
        "id": "mdWURgWZFJgD",
        "outputId": "643b729c-31d3-4f4c-ac5e-ce823d6b1afa"
      },
      "source": [
        "# Gráfico de disperção demonstra linearidade entre dados preditos e ocorridos\n",
        "plt.scatter(b_test, predicao1)\n",
        "plt.show()"
      ],
      "execution_count": 18,
      "outputs": [
        {
          "output_type": "display_data",
          "data": {
            "image/png": "[encoded data removed]",
            "text/plain": [
              "<Figure size 432x288 with 1 Axes>"
            ]
          },
          "metadata": {
            "tags": [],
            "needs_background": "light"
          }
        }
      ]
    },
    {
      "cell_type": "code",
      "metadata": {
        "id": "smFPo00rFPBj"
      },
      "source": [
        "# Após ateste de acurácia, algoritmo é adaptado para predição de dados de 2021. Colunas de 2014 a 2019 são copiados para \"x\" \n",
        "x = data.iloc[:,1:-1]"
      ],
      "execution_count": 19,
      "outputs": []
    },
    {
      "cell_type": "code",
      "metadata": {
        "id": "PxWoigTpFVKX"
      },
      "source": [
        "# Coluna 2020 é copiada para \"y\"\n",
        "y = data.iloc[:,-1]"
      ],
      "execution_count": 20,
      "outputs": []
    },
    {
      "cell_type": "code",
      "metadata": {
        "id": "8Sh8Hqm4FZme"
      },
      "source": [
        "# Algoritmo é treinado com o dataframe inteiro\n",
        "treino2 = lr.fit(x, y)"
      ],
      "execution_count": 21,
      "outputs": []
    },
    {
      "cell_type": "code",
      "metadata": {
        "id": "PUKziuZcFd83"
      },
      "source": [
        "# O algortimo treinado na linha anterior utiliza dados de 2014 a 2019 para fazer predição para dados de 2021\n",
        "predicao2 = lr.predict(x)"
      ],
      "execution_count": 22,
      "outputs": []
    },
    {
      "cell_type": "code",
      "metadata": {
        "id": "hFzuQ6sdFlz1"
      },
      "source": [
        "#Dados preditos para 2021 com base no dataframe de 2015 a 2020 são inclu´dos como nova coluna\n",
        "data['2021'] = predicao2"
      ],
      "execution_count": 23,
      "outputs": []
    },
    {
      "cell_type": "code",
      "metadata": {
        "colab": {
          "base_uri": "https://localhost:8080/",
          "height": 402
        },
        "id": "cRaD_rUnFo82",
        "outputId": "2ad4f64d-1b70-4773-f150-73b6b658c688"
      },
      "source": [
        "data"
      ],
      "execution_count": 24,
      "outputs": [
        {
          "output_type": "execute_result",
          "data": {
            "text/html": [
              "<div>\n",
              "<style scoped>\n",
              "    .dataframe tbody tr th:only-of-type {\n",
              "        vertical-align: middle;\n",
              "    }\n",
              "\n",
              "    .dataframe tbody tr th {\n",
              "        vertical-align: top;\n",
              "    }\n",
              "\n",
              "    .dataframe thead th {\n",
              "        text-align: right;\n",
              "    }\n",
              "</style>\n",
              "<table border=\"1\" class=\"dataframe\">\n",
              "  <thead>\n",
              "    <tr style=\"text-align: right;\">\n",
              "      <th></th>\n",
              "      <th>municipios</th>\n",
              "      <th>2014</th>\n",
              "      <th>2015</th>\n",
              "      <th>2016</th>\n",
              "      <th>2017</th>\n",
              "      <th>2018</th>\n",
              "      <th>2019</th>\n",
              "      <th>2020</th>\n",
              "      <th>2021</th>\n",
              "    </tr>\n",
              "  </thead>\n",
              "  <tbody>\n",
              "    <tr>\n",
              "      <th>0</th>\n",
              "      <td>ACEGUA</td>\n",
              "      <td>5502348.54</td>\n",
              "      <td>6075183.99</td>\n",
              "      <td>6622279.67</td>\n",
              "      <td>7176277.38</td>\n",
              "      <td>8166737.65</td>\n",
              "      <td>8744664.36</td>\n",
              "      <td>8889621.64</td>\n",
              "      <td>9.109544e+06</td>\n",
              "    </tr>\n",
              "    <tr>\n",
              "      <th>1</th>\n",
              "      <td>AGUA SANTA</td>\n",
              "      <td>3799378.01</td>\n",
              "      <td>3983286.46</td>\n",
              "      <td>4416318.24</td>\n",
              "      <td>4918023.68</td>\n",
              "      <td>5651324.66</td>\n",
              "      <td>5896371.31</td>\n",
              "      <td>6353422.28</td>\n",
              "      <td>6.099084e+06</td>\n",
              "    </tr>\n",
              "    <tr>\n",
              "      <th>2</th>\n",
              "      <td>AGUDO</td>\n",
              "      <td>6919789.33</td>\n",
              "      <td>7691367.16</td>\n",
              "      <td>8660675.82</td>\n",
              "      <td>8704848.42</td>\n",
              "      <td>9635339.65</td>\n",
              "      <td>10235133.02</td>\n",
              "      <td>10014811.71</td>\n",
              "      <td>1.043671e+07</td>\n",
              "    </tr>\n",
              "    <tr>\n",
              "      <th>3</th>\n",
              "      <td>AJURICABA</td>\n",
              "      <td>4282806.44</td>\n",
              "      <td>4254569.30</td>\n",
              "      <td>4674617.27</td>\n",
              "      <td>4985308.44</td>\n",
              "      <td>5914442.24</td>\n",
              "      <td>6420232.67</td>\n",
              "      <td>6669565.67</td>\n",
              "      <td>6.758249e+06</td>\n",
              "    </tr>\n",
              "    <tr>\n",
              "      <th>4</th>\n",
              "      <td>ALECRIM</td>\n",
              "      <td>2753456.68</td>\n",
              "      <td>2928085.58</td>\n",
              "      <td>3219747.60</td>\n",
              "      <td>3394479.72</td>\n",
              "      <td>3819069.32</td>\n",
              "      <td>3917244.34</td>\n",
              "      <td>3967990.44</td>\n",
              "      <td>3.961987e+06</td>\n",
              "    </tr>\n",
              "    <tr>\n",
              "      <th>...</th>\n",
              "      <td>...</td>\n",
              "      <td>...</td>\n",
              "      <td>...</td>\n",
              "      <td>...</td>\n",
              "      <td>...</td>\n",
              "      <td>...</td>\n",
              "      <td>...</td>\n",
              "      <td>...</td>\n",
              "      <td>...</td>\n",
              "    </tr>\n",
              "    <tr>\n",
              "      <th>492</th>\n",
              "      <td>VISTA ALEGRE PRATA</td>\n",
              "      <td>2335530.69</td>\n",
              "      <td>2675084.08</td>\n",
              "      <td>3474706.39</td>\n",
              "      <td>3660940.60</td>\n",
              "      <td>3490513.70</td>\n",
              "      <td>3443142.51</td>\n",
              "      <td>3346332.68</td>\n",
              "      <td>3.367393e+06</td>\n",
              "    </tr>\n",
              "    <tr>\n",
              "      <th>493</th>\n",
              "      <td>VISTA GAUCHA</td>\n",
              "      <td>2493268.59</td>\n",
              "      <td>2469009.18</td>\n",
              "      <td>2661289.82</td>\n",
              "      <td>2986804.88</td>\n",
              "      <td>3684528.38</td>\n",
              "      <td>4108939.54</td>\n",
              "      <td>4197166.08</td>\n",
              "      <td>4.409869e+06</td>\n",
              "    </tr>\n",
              "    <tr>\n",
              "      <th>494</th>\n",
              "      <td>VITORIA DAS MISSOES</td>\n",
              "      <td>1897959.88</td>\n",
              "      <td>1909128.98</td>\n",
              "      <td>2241559.38</td>\n",
              "      <td>2465982.99</td>\n",
              "      <td>2841953.83</td>\n",
              "      <td>2986394.12</td>\n",
              "      <td>3063351.14</td>\n",
              "      <td>3.083001e+06</td>\n",
              "    </tr>\n",
              "    <tr>\n",
              "      <th>495</th>\n",
              "      <td>WESTFALIA</td>\n",
              "      <td>6001791.96</td>\n",
              "      <td>6940984.53</td>\n",
              "      <td>8217410.48</td>\n",
              "      <td>8576974.83</td>\n",
              "      <td>9481767.56</td>\n",
              "      <td>9877663.87</td>\n",
              "      <td>9909135.99</td>\n",
              "      <td>9.972990e+06</td>\n",
              "    </tr>\n",
              "    <tr>\n",
              "      <th>496</th>\n",
              "      <td>XANGRI-LA</td>\n",
              "      <td>1105234.19</td>\n",
              "      <td>1151001.87</td>\n",
              "      <td>1141572.74</td>\n",
              "      <td>1241942.33</td>\n",
              "      <td>2180383.99</td>\n",
              "      <td>1982769.36</td>\n",
              "      <td>1649113.17</td>\n",
              "      <td>1.807794e+06</td>\n",
              "    </tr>\n",
              "  </tbody>\n",
              "</table>\n",
              "<p>497 rows × 9 columns</p>\n",
              "</div>"
            ],
            "text/plain": [
              "              municipios        2014  ...         2020          2021\n",
              "0                 ACEGUA  5502348.54  ...   8889621.64  9.109544e+06\n",
              "1             AGUA SANTA  3799378.01  ...   6353422.28  6.099084e+06\n",
              "2                  AGUDO  6919789.33  ...  10014811.71  1.043671e+07\n",
              "3              AJURICABA  4282806.44  ...   6669565.67  6.758249e+06\n",
              "4                ALECRIM  2753456.68  ...   3967990.44  3.961987e+06\n",
              "..                   ...         ...  ...          ...           ...\n",
              "492   VISTA ALEGRE PRATA  2335530.69  ...   3346332.68  3.367393e+06\n",
              "493         VISTA GAUCHA  2493268.59  ...   4197166.08  4.409869e+06\n",
              "494  VITORIA DAS MISSOES  1897959.88  ...   3063351.14  3.083001e+06\n",
              "495            WESTFALIA  6001791.96  ...   9909135.99  9.972990e+06\n",
              "496            XANGRI-LA  1105234.19  ...   1649113.17  1.807794e+06\n",
              "\n",
              "[497 rows x 9 columns]"
            ]
          },
          "metadata": {
            "tags": []
          },
          "execution_count": 24
        }
      ]
    }
  ]
}