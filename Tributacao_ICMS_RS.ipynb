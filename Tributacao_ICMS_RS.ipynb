{
  "nbformat": 4,
  "nbformat_minor": 0,
  "metadata": {
    "colab": {
      "name": "Tributacao_ICMS_RS.ipynb",
      "provenance": [],
      "collapsed_sections": [],
      "include_colab_link": true
    },
    "kernelspec": {
      "name": "python391jvsc74a57bd063fd5069d213b44bf678585dea6b12cceca9941eaf7f819626cde1f2670de90d",
      "display_name": "Python 3.9.1 64-bit"
    },
    "language_info": {
      "name": "python",
      "version": "3.9.1"
    },
    "metadata": {
      "interpreter": {
        "hash": "63fd5069d213b44bf678585dea6b12cceca9941eaf7f819626cde1f2670de90d"
      }
    }
  },
  "cells": [
    {
      "cell_type": "markdown",
      "metadata": {
        "id": "view-in-github",
        "colab_type": "text"
      },
      "source": [
        "<a href=\"https://colab.research.google.com/github/ProjectToDesenv/PosGraduacao2021-algorithms-DSM4/blob/master/Tributacao_ICMS_RS.ipynb\" target=\"_parent\"><img src=\"https://colab.research.google.com/assets/colab-badge.svg\" alt=\"Open In Colab\"/></a>"
      ]
    },
    {
      "cell_type": "markdown",
      "metadata": {
        "id": "yEwx7rztqO0X"
      },
      "source": [
        "Introdução, inclusão da Primeira Fase do CRISP-DM"
      ]
    },
    {
      "cell_type": "code",
      "metadata": {
        "id": "ZpKm8RmqorUl",
        "outputId": "d40d66a6-0f1f-4bc2-be28-15674953f54c"
      },
      "source": [
        "import pandas as pd\n",
        "import numpy as np\n",
        "import seaborn as sns\n",
        "import matplotlib.pyplot as plt\n",
        "#%matplotlib inline\n",
        "\n",
        "#Leitura do arquivo no formato xls\n",
        "data = pd.DataFrame(pd.read_excel(\"C:\\Repository\\Data\\Cruzamento_TE_IBGE_Alterado.xls\"))\n",
        "\n",
        "#conversão do arquivo para cvs\n",
        "data.to_csv (\"C:\\Repository\\Data\\Cruzamento_TE_IBGE_Alterado.csv\", \n",
        "                  index = None,\n",
        "                  header=True)\n",
        "  \n",
        "# show the dataframe\n",
        "data"
      ],
      "execution_count": 25,
      "outputs": [
        {
          "output_type": "execute_result",
          "data": {
            "text/plain": [
              "                  ACEGUA   8889621.64   4942  1798.7902954269528  1551.339  \\\n",
              "0             AGUA SANTA   6353422.28   3743         1697.414448   291.503   \n",
              "1                  AGUDO  10014811.71  16401          610.622018   534.624   \n",
              "2              AJURICABA   6669565.67   6987          954.567865   322.674   \n",
              "3                ALECRIM   3967990.44   5827          680.966267   316.394   \n",
              "4               ALEGRETE  43231709.75  73028          591.988138  7800.428   \n",
              "..                   ...          ...    ...                 ...       ...   \n",
              "491   VISTA ALEGRE PRATA   3346332.68   1557         2149.218163   119.327   \n",
              "492         VISTA GAUCHA   4197166.08   2855         1470.110711    90.022   \n",
              "493  VITORIA DAS MISSOES   3063351.14   3092          990.734521   258.312   \n",
              "494            WESTFALIA   9909135.99   3031         3269.262946    63.665   \n",
              "495            XANGRI-LA   1649113.17  16775           98.307790    60.799   \n",
              "\n",
              "     0.687  20.41   26548533.75   23549109.68  51069.07  \n",
              "0     0.75  69.77  2.589740e+07  2.001253e+07  88151.28  \n",
              "1    0.694  12.42  6.319246e+07  5.136667e+07  30258.08  \n",
              "2    0.753  14.71  2.639604e+07  2.163098e+07  42299.19  \n",
              "3    0.672   33.9  2.291728e+07  2.055457e+07  18159.02  \n",
              "4     0.74  13.51  2.250195e+08  1.993194e+08  29467.27  \n",
              "..     ...    ...           ...           ...       ...  \n",
              "491   0.78    100  1.601999e+07  1.363260e+07  34542.61  \n",
              "492  0.757   30.3  1.911249e+07  1.475948e+07  23348.10  \n",
              "493  0.655  43.48  1.773749e+07  1.397419e+07  31116.94  \n",
              "494  0.752  32.26  2.461450e+07  2.007073e+07  55984.31  \n",
              "495  0.735   3.48  1.137331e+08  1.070335e+08  31202.93  \n",
              "\n",
              "[496 rows x 10 columns]"
            ],
            "text/html": "<div>\n<style scoped>\n    .dataframe tbody tr th:only-of-type {\n        vertical-align: middle;\n    }\n\n    .dataframe tbody tr th {\n        vertical-align: top;\n    }\n\n    .dataframe thead th {\n        text-align: right;\n    }\n</style>\n<table border=\"1\" class=\"dataframe\">\n  <thead>\n    <tr style=\"text-align: right;\">\n      <th></th>\n      <th>ACEGUA</th>\n      <th>8889621.64</th>\n      <th>4942</th>\n      <th>1798.7902954269528</th>\n      <th>1551.339</th>\n      <th>0.687</th>\n      <th>20.41</th>\n      <th>26548533.75</th>\n      <th>23549109.68</th>\n      <th>51069.07</th>\n    </tr>\n  </thead>\n  <tbody>\n    <tr>\n      <th>0</th>\n      <td>AGUA SANTA</td>\n      <td>6353422.28</td>\n      <td>3743</td>\n      <td>1697.414448</td>\n      <td>291.503</td>\n      <td>0.75</td>\n      <td>69.77</td>\n      <td>2.589740e+07</td>\n      <td>2.001253e+07</td>\n      <td>88151.28</td>\n    </tr>\n    <tr>\n      <th>1</th>\n      <td>AGUDO</td>\n      <td>10014811.71</td>\n      <td>16401</td>\n      <td>610.622018</td>\n      <td>534.624</td>\n      <td>0.694</td>\n      <td>12.42</td>\n      <td>6.319246e+07</td>\n      <td>5.136667e+07</td>\n      <td>30258.08</td>\n    </tr>\n    <tr>\n      <th>2</th>\n      <td>AJURICABA</td>\n      <td>6669565.67</td>\n      <td>6987</td>\n      <td>954.567865</td>\n      <td>322.674</td>\n      <td>0.753</td>\n      <td>14.71</td>\n      <td>2.639604e+07</td>\n      <td>2.163098e+07</td>\n      <td>42299.19</td>\n    </tr>\n    <tr>\n      <th>3</th>\n      <td>ALECRIM</td>\n      <td>3967990.44</td>\n      <td>5827</td>\n      <td>680.966267</td>\n      <td>316.394</td>\n      <td>0.672</td>\n      <td>33.9</td>\n      <td>2.291728e+07</td>\n      <td>2.055457e+07</td>\n      <td>18159.02</td>\n    </tr>\n    <tr>\n      <th>4</th>\n      <td>ALEGRETE</td>\n      <td>43231709.75</td>\n      <td>73028</td>\n      <td>591.988138</td>\n      <td>7800.428</td>\n      <td>0.74</td>\n      <td>13.51</td>\n      <td>2.250195e+08</td>\n      <td>1.993194e+08</td>\n      <td>29467.27</td>\n    </tr>\n    <tr>\n      <th>...</th>\n      <td>...</td>\n      <td>...</td>\n      <td>...</td>\n      <td>...</td>\n      <td>...</td>\n      <td>...</td>\n      <td>...</td>\n      <td>...</td>\n      <td>...</td>\n      <td>...</td>\n    </tr>\n    <tr>\n      <th>491</th>\n      <td>VISTA ALEGRE PRATA</td>\n      <td>3346332.68</td>\n      <td>1557</td>\n      <td>2149.218163</td>\n      <td>119.327</td>\n      <td>0.78</td>\n      <td>100</td>\n      <td>1.601999e+07</td>\n      <td>1.363260e+07</td>\n      <td>34542.61</td>\n    </tr>\n    <tr>\n      <th>492</th>\n      <td>VISTA GAUCHA</td>\n      <td>4197166.08</td>\n      <td>2855</td>\n      <td>1470.110711</td>\n      <td>90.022</td>\n      <td>0.757</td>\n      <td>30.3</td>\n      <td>1.911249e+07</td>\n      <td>1.475948e+07</td>\n      <td>23348.10</td>\n    </tr>\n    <tr>\n      <th>493</th>\n      <td>VITORIA DAS MISSOES</td>\n      <td>3063351.14</td>\n      <td>3092</td>\n      <td>990.734521</td>\n      <td>258.312</td>\n      <td>0.655</td>\n      <td>43.48</td>\n      <td>1.773749e+07</td>\n      <td>1.397419e+07</td>\n      <td>31116.94</td>\n    </tr>\n    <tr>\n      <th>494</th>\n      <td>WESTFALIA</td>\n      <td>9909135.99</td>\n      <td>3031</td>\n      <td>3269.262946</td>\n      <td>63.665</td>\n      <td>0.752</td>\n      <td>32.26</td>\n      <td>2.461450e+07</td>\n      <td>2.007073e+07</td>\n      <td>55984.31</td>\n    </tr>\n    <tr>\n      <th>495</th>\n      <td>XANGRI-LA</td>\n      <td>1649113.17</td>\n      <td>16775</td>\n      <td>98.307790</td>\n      <td>60.799</td>\n      <td>0.735</td>\n      <td>3.48</td>\n      <td>1.137331e+08</td>\n      <td>1.070335e+08</td>\n      <td>31202.93</td>\n    </tr>\n  </tbody>\n</table>\n<p>496 rows × 10 columns</p>\n</div>"
          },
          "metadata": {},
          "execution_count": 25
        }
      ]
    },
    {
      "cell_type": "code",
      "metadata": {
        "id": "ydalvLbA4mAp"
      },
      "source": [
        "cols = ['municipio', 'repasse-liquido-2020', 'populacao-estimada-2020', 'repasse-perCapta-BC', 'area-territorial-2020', 'idhm-2010', 'mortalidade-infantil-2017','receita-realizada-2017', 'despesa-empenhada-2017', 'pip-percapta-2018']\n",
        "\n",
        "data = pd.read_csv(r\"C:\\Repository\\Data\\Cruzamento_TE_IBGE_Alterado.csv\", names=cols)\n",
        "data.head()"
      ],
      "execution_count": 26,
      "outputs": [
        {
          "output_type": "execute_result",
          "data": {
            "text/plain": [
              "    municipio  repasse-liquido-2020  populacao-estimada-2020  \\\n",
              "0      ACEGUA            8889621.64                     4942   \n",
              "1  AGUA SANTA            6353422.28                     3743   \n",
              "2       AGUDO           10014811.71                    16401   \n",
              "3   AJURICABA            6669565.67                     6987   \n",
              "4     ALECRIM            3967990.44                     5827   \n",
              "\n",
              "   repasse-perCapta-BC  area-territorial-2020 idhm-2010  \\\n",
              "0          1798.790295               1551.339     0.687   \n",
              "1          1697.414448                291.503      0.75   \n",
              "2           610.622018                534.624     0.694   \n",
              "3           954.567865                322.674     0.753   \n",
              "4           680.966267                316.394     0.672   \n",
              "\n",
              "  mortalidade-infantil-2017  receita-realizada-2017  despesa-empenhada-2017  \\\n",
              "0                     20.41             26548533.75             23549109.68   \n",
              "1                     69.77             25897400.87             20012529.85   \n",
              "2                     12.42             63192464.87             51366673.37   \n",
              "3                     14.71             26396043.14             21630982.89   \n",
              "4                      33.9             22917276.03             20554573.76   \n",
              "\n",
              "   pip-percapta-2018  \n",
              "0           51069.07  \n",
              "1           88151.28  \n",
              "2           30258.08  \n",
              "3           42299.19  \n",
              "4           18159.02  "
            ],
            "text/html": "<div>\n<style scoped>\n    .dataframe tbody tr th:only-of-type {\n        vertical-align: middle;\n    }\n\n    .dataframe tbody tr th {\n        vertical-align: top;\n    }\n\n    .dataframe thead th {\n        text-align: right;\n    }\n</style>\n<table border=\"1\" class=\"dataframe\">\n  <thead>\n    <tr style=\"text-align: right;\">\n      <th></th>\n      <th>municipio</th>\n      <th>repasse-liquido-2020</th>\n      <th>populacao-estimada-2020</th>\n      <th>repasse-perCapta-BC</th>\n      <th>area-territorial-2020</th>\n      <th>idhm-2010</th>\n      <th>mortalidade-infantil-2017</th>\n      <th>receita-realizada-2017</th>\n      <th>despesa-empenhada-2017</th>\n      <th>pip-percapta-2018</th>\n    </tr>\n  </thead>\n  <tbody>\n    <tr>\n      <th>0</th>\n      <td>ACEGUA</td>\n      <td>8889621.64</td>\n      <td>4942</td>\n      <td>1798.790295</td>\n      <td>1551.339</td>\n      <td>0.687</td>\n      <td>20.41</td>\n      <td>26548533.75</td>\n      <td>23549109.68</td>\n      <td>51069.07</td>\n    </tr>\n    <tr>\n      <th>1</th>\n      <td>AGUA SANTA</td>\n      <td>6353422.28</td>\n      <td>3743</td>\n      <td>1697.414448</td>\n      <td>291.503</td>\n      <td>0.75</td>\n      <td>69.77</td>\n      <td>25897400.87</td>\n      <td>20012529.85</td>\n      <td>88151.28</td>\n    </tr>\n    <tr>\n      <th>2</th>\n      <td>AGUDO</td>\n      <td>10014811.71</td>\n      <td>16401</td>\n      <td>610.622018</td>\n      <td>534.624</td>\n      <td>0.694</td>\n      <td>12.42</td>\n      <td>63192464.87</td>\n      <td>51366673.37</td>\n      <td>30258.08</td>\n    </tr>\n    <tr>\n      <th>3</th>\n      <td>AJURICABA</td>\n      <td>6669565.67</td>\n      <td>6987</td>\n      <td>954.567865</td>\n      <td>322.674</td>\n      <td>0.753</td>\n      <td>14.71</td>\n      <td>26396043.14</td>\n      <td>21630982.89</td>\n      <td>42299.19</td>\n    </tr>\n    <tr>\n      <th>4</th>\n      <td>ALECRIM</td>\n      <td>3967990.44</td>\n      <td>5827</td>\n      <td>680.966267</td>\n      <td>316.394</td>\n      <td>0.672</td>\n      <td>33.9</td>\n      <td>22917276.03</td>\n      <td>20554573.76</td>\n      <td>18159.02</td>\n    </tr>\n  </tbody>\n</table>\n</div>"
          },
          "metadata": {},
          "execution_count": 26
        }
      ]
    },
    {
      "cell_type": "code",
      "execution_count": null,
      "metadata": {},
      "outputs": [],
      "source": []
    }
  ]
}